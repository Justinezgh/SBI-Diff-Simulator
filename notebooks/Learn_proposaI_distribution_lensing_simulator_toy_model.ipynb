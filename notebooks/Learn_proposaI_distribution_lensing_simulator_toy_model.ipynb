{
  "nbformat": 4,
  "nbformat_minor": 0,
  "metadata": {
    "colab": {
      "provenance": [],
      "machine_shape": "hm",
      "private_outputs": true,
      "authorship_tag": "ABX9TyOCz6j450pU1u0AhZxfV0Sa",
      "include_colab_link": true
    },
    "kernelspec": {
      "name": "python3",
      "display_name": "Python 3"
    },
    "language_info": {
      "name": "python"
    },
    "gpuClass": "premium"
  },
  "cells": [
    {
      "cell_type": "markdown",
      "metadata": {
        "id": "view-in-github",
        "colab_type": "text"
      },
      "source": [
        "<a href=\"https://colab.research.google.com/github/Justinezgh/SBI-Diff-Simulator/blob/main/notebooks/Learn_proposaI_distribution_lensing_simulator_toy_model.ipynb\" target=\"_parent\"><img src=\"https://colab.research.google.com/assets/colab-badge.svg\" alt=\"Open In Colab\"/></a>"
      ]
    },
    {
      "cell_type": "code",
      "execution_count": null,
      "metadata": {
        "id": "nITsC02KPzcp"
      },
      "outputs": [],
      "source": [
        "!pip install --quiet lenstools\n",
        "!pip install --quiet git+https://github.com/DifferentiableUniverseInitiative/jax_cosmo.git \n",
        "!pip install --quiet git+https://github.com/Justinezgh/SBI-Diff-Simulator.git\n",
        "!pip install --quiet jax-cosmo numpyro\n",
        "!pip install --quiet dm-haiku==0.0.5 optax flax\n",
        "!pip install chainconsumer"
      ]
    },
    {
      "cell_type": "code",
      "source": [
        "import logging\n",
        "# Removing annoying TFP error message\n",
        "\n",
        "logger = logging.getLogger()\n",
        "class CheckTypesFilter(logging.Filter):\n",
        "    def filter(self, record):\n",
        "        return \"check_types\" not in record.getMessage()\n",
        "logger.addFilter(CheckTypesFilter())"
      ],
      "metadata": {
        "id": "Rlny_D_fP2or"
      },
      "execution_count": null,
      "outputs": []
    },
    {
      "cell_type": "code",
      "source": [
        "%pylab inline\n",
        "import jax\n",
        "import jax.numpy as jnp\n",
        "import jax_cosmo as jc\n",
        "\n",
        "import numpyro\n",
        "from numpyro.handlers import seed, trace, condition\n",
        "import numpyro.distributions as dist\n",
        "\n",
        "import tensorflow_probability as tfp; tfp = tfp.substrates.jax\n",
        "tfd= tfp.distributions\n",
        "\n",
        "import tensorflow_datasets as tfds\n",
        "import tensorflow as tf"
      ],
      "metadata": {
        "id": "Xjcll5JyFR6b"
      },
      "execution_count": null,
      "outputs": []
    },
    {
      "cell_type": "code",
      "source": [
        "from google.colab import drive\n",
        "drive.mount('/content/gdrive')"
      ],
      "metadata": {
        "id": "AmN3Pg3hxZb0"
      },
      "execution_count": null,
      "outputs": []
    },
    {
      "cell_type": "code",
      "source": [
        "from haiku._src.nets.resnet import ResNet18, ResNet34\n",
        "from functools import partial\n",
        "import optax\n",
        "import haiku as hk\n",
        "import jax\n",
        "import jax.numpy as jnp\n",
        "from numpyro.handlers import condition\n",
        "from flax.metrics import tensorboard\n",
        "\n",
        "import tensorflow_probability as tfp; tfp = tfp.experimental.substrates.jax\n",
        "tfb = tfp.bijectors\n",
        "tfd = tfp.distributions\n",
        "\n",
        "from sbids.models import AffineSigmoidCoupling, ConditionalRealNVP"
      ],
      "metadata": {
        "id": "UdD4s4ZB9-5c"
      },
      "execution_count": null,
      "outputs": []
    },
    {
      "cell_type": "code",
      "source": [
        "sample_power_spectrum = jnp.load('/content/sample_power_spectrum_toy_model.npy')"
      ],
      "metadata": {
        "id": "Y--5HdZ-n3-b"
      },
      "execution_count": null,
      "outputs": []
    },
    {
      "cell_type": "code",
      "source": [
        "class AffineCoupling(hk.Module):\n",
        "  \"\"\"This is the coupling layer used in the Flow.\"\"\"\n",
        "  def __call__(self, x, output_units, **condition_kwargs):\n",
        "   \n",
        "    net = hk.Linear(128)(x)   \n",
        "    net = jax.nn.leaky_relu(net)\n",
        "    net = hk.Linear(128)(net)\n",
        "    net = jax.nn.leaky_relu(net)    \n",
        "    net = hk.Linear(128)(net)\n",
        "    net = jax.nn.leaky_relu(net) \n",
        "    shifter = tfb.Shift(hk.Linear(output_units)(net))\n",
        "    scaler = tfb.Scale(jnp.clip(jnp.exp(hk.Linear(output_units)(net)), 1e-2, 1e2))\n",
        "    \n",
        "    return tfb.Chain([shifter, scaler])     \n",
        "\n",
        "\n",
        "class AffineFlow(hk.Module):\n",
        "    \"\"\"This is a normalizing flow using the coupling layers defined\n",
        "    above.\"\"\"\n",
        "    def __call__(self):\n",
        "        \n",
        "        chain = tfb.Chain([\n",
        "            tfb.RealNVP(1, bijector_fn=AffineCoupling(name='aff1')),\n",
        "            tfb.Permute([1,0]),\n",
        "            tfb.RealNVP(1, bijector_fn=AffineCoupling(name='aff2')),\n",
        "            tfb.Permute([1,0]),\n",
        "            tfb.RealNVP(1, bijector_fn=AffineCoupling(name='aff3')),\n",
        "            tfb.Permute([1,0]),\n",
        "            tfb.RealNVP(1, bijector_fn=AffineCoupling(name='aff4')),\n",
        "            tfb.Permute([1,0]),\n",
        "        ])\n",
        "        \n",
        "        nvp = tfd.TransformedDistribution(tfd.Independent(tfd.TruncatedNormal(0.5*jnp.ones(2), \n",
        "                                                                              0.1*jnp.ones(2), \n",
        "                                                                              0.01,0.99),\n",
        "                                                          reinterpreted_batch_ndims=1),\n",
        "                                          bijector=chain)\n",
        "        return nvp"
      ],
      "metadata": {
        "id": "LGAwJHVPPhnG"
      },
      "execution_count": null,
      "outputs": []
    },
    {
      "cell_type": "code",
      "source": [
        "model_log_proposal = hk.without_apply_rng(hk.transform(lambda x : AffineFlow()().log_prob(x)))"
      ],
      "metadata": {
        "id": "9edPHzsOPqnd"
      },
      "execution_count": null,
      "outputs": []
    },
    {
      "cell_type": "code",
      "source": [
        "@jax.jit\n",
        "def loss_fn(params, batch):\n",
        "    logp = model_log_proposal.apply(params, batch)\n",
        "    return -jnp.mean(logp)\n",
        "\n",
        "@jax.jit\n",
        "def update(params, opt_state, batch):\n",
        "    \"\"\"Single SGD update step.\"\"\"\n",
        "    loss, grads = jax.value_and_grad(loss_fn)(params, batch)\n",
        "    updates, new_opt_state = model_log_proposal_optimizer.update(grads, opt_state)\n",
        "    new_params = optax.apply_updates(params, updates)\n",
        "  \n",
        "    return loss, new_params, new_opt_state"
      ],
      "metadata": {
        "id": "afnGD1AQP9Sv"
      },
      "execution_count": null,
      "outputs": []
    },
    {
      "cell_type": "code",
      "source": [
        "from tqdm import tqdm \n",
        "\n",
        "model_log_proposal_params = model_log_proposal.init(jax.random.PRNGKey(10), jnp.zeros([1, 2]))\n",
        "\n",
        "losses = []\n",
        "\n",
        "learning_rate=0.001\n",
        "model_log_proposal_optimizer = optax.adam(learning_rate)\n",
        "model_log_proposal_opt_state = model_log_proposal_optimizer.init(model_log_proposal_params)\n",
        "\n",
        "for step in tqdm(range(10000)):\n",
        "    inds = np.random.randint(0, len(sample_power_spectrum), 128) \n",
        "    l, model_log_proposal_params, model_log_proposal_opt_state = update(model_log_proposal_params,\n",
        "                                                                        model_log_proposal_opt_state, \n",
        "                                                                        sample_power_spectrum[inds])\n",
        "    losses.append(l)\n",
        "\n",
        "\n",
        "learning_rate=0.0001\n",
        "model_log_proposal_optimizer = optax.adam(learning_rate)\n",
        "model_log_proposal_opt_state = model_log_proposal_optimizer.init(model_log_proposal_params)\n",
        "for step in tqdm(range(50000)):\n",
        "    inds = np.random.randint(0, len(sample_power_spectrum), 128) \n",
        "    l, model_log_proposal_params, model_log_proposal_opt_state = update(model_log_proposal_params, \n",
        "                                                                        model_log_proposal_opt_state, \n",
        "                                                                        sample_power_spectrum[inds])\n",
        "    losses.append(l)"
      ],
      "metadata": {
        "id": "0lL26C6QQCc0"
      },
      "execution_count": null,
      "outputs": []
    },
    {
      "cell_type": "code",
      "source": [
        "plt.plot(losses)"
      ],
      "metadata": {
        "id": "etwL4REdQy7c"
      },
      "execution_count": null,
      "outputs": []
    },
    {
      "cell_type": "code",
      "source": [
        "model_sample = hk.transform(lambda n : AffineFlow()().sample(n, seed=hk.next_rng_key()))"
      ],
      "metadata": {
        "id": "RJBwEFGeQ1TH"
      },
      "execution_count": null,
      "outputs": []
    },
    {
      "cell_type": "code",
      "source": [
        "# Cool cool, let's see if we can sample from it now\n",
        "samps = model_sample.apply(model_log_proposal_params, rng=jax.random.PRNGKey(6543), n=len(sample_power_spectrum))"
      ],
      "metadata": {
        "id": "6X3j2Nf2Q5LE"
      },
      "execution_count": null,
      "outputs": []
    },
    {
      "cell_type": "code",
      "source": [
        "from chainconsumer import ChainConsumer\n",
        "\n",
        "c = ChainConsumer()\n",
        "c.add_chain(sample_power_spectrum, parameters=[\"$\\Omega_c$\", \"$\\sigma_8$\"], name='Power Spectrum')\n",
        "c.add_chain(samps, parameters=[\"$\\Omega_c$\", \"$\\sigma_8$\"], name='Predict')\n",
        "fig = c.plotter.plot(figsize=\"column\", truth = [0.3,0.8])"
      ],
      "metadata": {
        "id": "zg_Rg8h-_8gE"
      },
      "execution_count": null,
      "outputs": []
    },
    {
      "cell_type": "code",
      "source": [
        "sample_full_field = jnp.load('/content/sample_full_field.npy')"
      ],
      "metadata": {
        "id": "LwkCWVe41Jf5"
      },
      "execution_count": null,
      "outputs": []
    },
    {
      "cell_type": "code",
      "source": [
        "from chainconsumer import ChainConsumer\n",
        "\n",
        "c = ChainConsumer()\n",
        "c.add_chain(sample_power_spectrum, parameters=[\"$\\Omega_c$\", \"$\\sigma_8$\"], name='Power Spectrum')\n",
        "c.add_chain(samps, parameters=[\"$\\Omega_c$\", \"$\\sigma_8$\"], name='Predict')\n",
        "c.add_chain(sample_full_field, parameters=[\"$\\Omega_c$\", \"$\\sigma_8$\"], name='Full field')\n",
        "fig = c.plotter.plot(figsize=\"column\", truth = [0.3,0.8])"
      ],
      "metadata": {
        "id": "cdU8EHS61ilm"
      },
      "execution_count": null,
      "outputs": []
    },
    {
      "cell_type": "code",
      "source": [
        "plt.scatter(samps[:,0], samps[:,1], alpha = 0.5)\n",
        "plt.scatter(sample_full_field[:,0], sample_full_field[:,1],alpha=0.5)"
      ],
      "metadata": {
        "id": "OnwabNr50-GK"
      },
      "execution_count": null,
      "outputs": []
    },
    {
      "cell_type": "code",
      "source": [
        "import pickle\n",
        "from pathlib import Path\n",
        "path = Path('/content/gdrive/MyDrive/data').expanduser()\n",
        "\n",
        "with open(path / \"params_proposal_lensing_simulator_toy_model.pkl\", \"wb\") as fp:\n",
        "  pickle.dump(model_log_proposal_params, fp)"
      ],
      "metadata": {
        "id": "lI1xRYAHew4b"
      },
      "execution_count": null,
      "outputs": []
    },
    {
      "cell_type": "code",
      "source": [],
      "metadata": {
        "id": "nukgP37T6MCd"
      },
      "execution_count": null,
      "outputs": []
    },
    {
      "cell_type": "code",
      "source": [],
      "metadata": {
        "id": "Vrp-6p-U6MEq"
      },
      "execution_count": null,
      "outputs": []
    },
    {
      "cell_type": "code",
      "source": [],
      "metadata": {
        "id": "4VA1xAV76MHS"
      },
      "execution_count": null,
      "outputs": []
    }
  ]
}