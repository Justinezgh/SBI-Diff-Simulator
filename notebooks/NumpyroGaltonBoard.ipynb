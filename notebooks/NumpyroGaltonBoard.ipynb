{
  "nbformat": 4,
  "nbformat_minor": 0,
  "metadata": {
    "colab": {
      "provenance": [],
      "collapsed_sections": [],
      "authorship_tag": "ABX9TyO+qa/OMB8cFX2KYsrQMgFr",
      "include_colab_link": true
    },
    "kernelspec": {
      "name": "python3",
      "display_name": "Python 3"
    },
    "language_info": {
      "name": "python"
    }
  },
  "cells": [
    {
      "cell_type": "markdown",
      "metadata": {
        "id": "view-in-github",
        "colab_type": "text"
      },
      "source": [
        "<a href=\"https://colab.research.google.com/github/Justinezgh/SBI-Diff-Simulator/blob/u%2FJustinezgh%2Fgaltonboard/notebooks/NumpyroGaltonBoard.ipynb\" target=\"_parent\"><img src=\"https://colab.research.google.com/assets/colab-badge.svg\" alt=\"Open In Colab\"/></a>"
      ]
    },
    {
      "cell_type": "code",
      "execution_count": 1,
      "metadata": {
        "id": "WmIfE8KbI4za",
        "colab": {
          "base_uri": "https://localhost:8080/"
        },
        "outputId": "e7a7a3e6-db8f-459c-d7f9-a30f868498d3"
      },
      "outputs": [
        {
          "output_type": "stream",
          "name": "stdout",
          "text": [
            "  Building wheel for goldmine (setup.py) ... \u001b[?25l\u001b[?25hdone\n",
            "\u001b[K     |████████████████████████████████| 292 kB 4.4 MB/s \n",
            "\u001b[?25h"
          ]
        }
      ],
      "source": [
        "!pip install --quiet git+https://github.com/Justinezgh/goldmine.git@setup\n",
        "!pip install --quiet numpyro "
      ]
    },
    {
      "cell_type": "code",
      "source": [
        "%pylab inline \n",
        "import jax \n",
        "import jax.numpy as jnp \n",
        "from numpyro.handlers import seed, trace, condition\n",
        "import numpyro.distributions as dist\n",
        "\n",
        "import tensorflow_probability as tfp; tfp = tfp.substrates.jax\n",
        "tfd= tfp.distributions\n",
        "\n",
        "import logging\n",
        "logger = logging.getLogger()\n",
        "class CheckTypesFilter(logging.Filter):\n",
        "    def filter(self, record):\n",
        "        return \"check_types\" not in record.getMessage()\n",
        "logger.addFilter(CheckTypesFilter())\n",
        "\n",
        "from goldmine.simulators.galton import GeneralizedGaltonBoard\n",
        "from goldmine.simulate import simulate, main"
      ],
      "metadata": {
        "colab": {
          "base_uri": "https://localhost:8080/"
        },
        "id": "jrJx90toJCzA",
        "outputId": "9e586d3b-1b41-42bf-aeff-52f64d0e0be9"
      },
      "execution_count": 2,
      "outputs": [
        {
          "output_type": "stream",
          "name": "stdout",
          "text": [
            "Populating the interactive namespace from numpy and matplotlib\n"
          ]
        }
      ]
    },
    {
      "cell_type": "code",
      "source": [
        "# simulator from mining gold github \n",
        "\n",
        "import autograd.numpy as np\n",
        "import autograd as ag\n",
        "\n",
        "from goldmine.simulators.base import Simulator\n",
        "from goldmine.various.functions import sigmoid\n",
        "from goldmine.various.utils import check_random_state\n",
        "from tqdm import tqdm\n",
        "\n",
        "prior = tfd.Uniform(-1, 0)\n",
        "\n",
        "class GeneralizedGaltonBoard(Simulator):\n",
        "    \"\"\" Generalized Galton board example from arXiv:1805.XXXXX \"\"\"\n",
        "\n",
        "\n",
        "    def __init__(self, n_rows=20, n_nails=31):\n",
        "\n",
        "        super().__init__()\n",
        "\n",
        "        self.n_rows = n_rows\n",
        "        self.n_nails = n_nails\n",
        "\n",
        "        self.d_trace = ag.grad_and_aux(self.trace)  # for mining: calculate the gradient log_p_xz (the joint score)\n",
        "\n",
        "    def nail_positions(self, theta, level=None, nail=None):\n",
        "\n",
        "        level_rel = 1. * level / (self.n_rows - 1) #zv\n",
        "        nail_rel = 2. * nail / (self.n_nails - 1) - 1. #zh\n",
        "\n",
        "        nail_positions = ((1. - np.sin(np.pi * level_rel)) * 0.5\n",
        "                          + np.sin(np.pi * level_rel) * sigmoid(10 * theta * nail_rel))\n",
        "\n",
        "        return nail_positions\n",
        "\n",
        "    def threshold(self, theta, trace):\n",
        "        begin, z = trace\n",
        "        pos = begin\n",
        "        level = 0\n",
        "        for step in z:\n",
        "            if step == 0: # going left\n",
        "                if level % 2 == 0:\n",
        "                    pos = pos\n",
        "                else:\n",
        "                    pos = pos - 1\n",
        "            else: # going right\n",
        "                if level % 2 == 0:\n",
        "                    pos = pos + 1\n",
        "                else:\n",
        "                    pos = pos\n",
        "            level += 1\n",
        "        if level % 2 == 1:  # for odd rows, the first and last nails are constant\n",
        "            if pos == 0:\n",
        "                return 0.0\n",
        "            elif pos == self.n_nails:\n",
        "                return 1.0\n",
        "        return self.nail_positions(theta, level, pos)\n",
        "\n",
        "    def trace(self, theta, u, theta_ref=None, score = 'density'):\n",
        "\n",
        "        # Run and mine gold\n",
        "        # left/right decisions are based on value of theta_ref (which defaults to theta if None)\n",
        "        # but log_pxz based on value of theta (needed for ratio)\n",
        "\n",
        "        if theta_ref is None:\n",
        "            theta_ref = theta\n",
        "\n",
        "        begin = pos = self.n_nails // 2\n",
        "        z = []\n",
        "        pos_ = [float(pos)]\n",
        "        log_ = []\n",
        "\n",
        "        log_p_xz = 0.0\n",
        "\n",
        "        while len(z) < self.n_rows :\n",
        "            t_ref = self.threshold(theta_ref, (begin, z))\n",
        "            t = self.threshold(theta, (begin, z))\n",
        "\n",
        "            level = len(z)\n",
        "\n",
        "            # going left\n",
        "            if u[level] < t_ref or t_ref == 1.0:\n",
        "                log_p_xz += np.log(t)\n",
        "                log_.append(float(np.log(t)._value))\n",
        "\n",
        "                if level % 2 == 0:  # even rows\n",
        "                    pos = pos\n",
        "                else:  # odd rows\n",
        "                    pos = pos - 1\n",
        "\n",
        "                z.append(0)\n",
        "\n",
        "            # going right\n",
        "            else:\n",
        "                log_p_xz += np.log(1. - t)\n",
        "                log_.append(float(np.log(1. - t)._value))\n",
        "\n",
        "                if level % 2 == 0:\n",
        "                    pos = pos + 1\n",
        "                else:\n",
        "                    pos = pos\n",
        "\n",
        "                z.append(1)\n",
        "            pos_.append(float(pos))\n",
        "\n",
        "        x = pos\n",
        "        log_p_theta = prior.log_prob(jnp.array(theta._value))\n",
        "        if score == 'density':\n",
        "          return log_p_xz + log_p_theta , (float(x), pos_, log_)\n",
        "        if score == 'conditional':\n",
        "          return log_p_xz , (float(x), pos_, log_) \n",
        "\n",
        "\n",
        "    def rvs_score(self,\n",
        "                  theta, theta_score,\n",
        "                  n, random_state=None,\n",
        "                  score = 'density'):\n",
        "\n",
        "        \"\"\" Draws samples x according to p(x|theta), augments them with joint score t(x, z | theta_score) \"\"\"\n",
        "\n",
        "        rng = check_random_state(random_state)\n",
        "\n",
        "        all_x = []\n",
        "        all_t_xz = []\n",
        "        all_pos = []\n",
        "        all_log = []\n",
        "\n",
        "        for i in tqdm(range(n)):\n",
        "            u = rng.rand(self.n_rows)\n",
        "\n",
        "            t_xz, (x, pos, log) = self.d_trace(theta_score, u, theta_ref=theta)\n",
        "\n",
        "            all_x.append(x)\n",
        "            all_t_xz.append(t_xz)\n",
        "            all_pos.append(pos)\n",
        "            all_log.append(log)\n",
        "\n",
        "        all_x = np.array(all_x)\n",
        "        all_t_xz = np.array(all_t_xz)\n",
        "        all_pos = np.array(all_pos)\n",
        "        all_log = np.array(all_log)\n",
        "\n",
        "        return all_x, all_t_xz, all_pos, all_log\n",
        "\n",
        "\n",
        "    def theta_defaults(self, n_thetas=100, single_theta=False, random=True):\n",
        "      return np.array([prior.sample(n_thetas, jax.random.PRNGKey(0))]).reshape([-1,1])\n",
        "\n",
        "\n",
        "\n",
        "\n",
        "#! /usr/bin/env python\n",
        "\n",
        "# from __future__ import absolute_import, division, print_function\n",
        "\n",
        "import argparse\n",
        "import logging\n",
        "from os import sys, path\n",
        "import autograd.numpy as np\n",
        "\n",
        "\n",
        "try:\n",
        "    from goldmine.various.look_up import create_simulator\n",
        "    from goldmine.various.utils import general_init, create_missing_folders, get_size\n",
        "    from goldmine.simulators.base import SimulatorException\n",
        "except ImportError:\n",
        "    if base_dir in sys.path:\n",
        "        raise\n",
        "    sys.path.append(base_dir)\n",
        "    from goldmine.various.look_up import create_simulator\n",
        "    from goldmine.various.utils import general_init, create_missing_folders, get_size\n",
        "    from goldmine.simulators.base import SimulatorException\n",
        "\n",
        "\n",
        "def simulate(simulator_name,\n",
        "             sample_label,\n",
        "             theta0=None,\n",
        "             theta1=None,\n",
        "             draw_from=None,\n",
        "             single_theta=False,\n",
        "             grid_sampling=False,\n",
        "             generate_joint_ratio=True,\n",
        "             generate_joint_score=True,\n",
        "             checkpoint=False,\n",
        "             n_thetas=1000,\n",
        "             n_samples_per_theta=1000,\n",
        "             random_state=None,\n",
        "             continue_after_exceptions=True, \n",
        "             score = 'density'):\n",
        "    \"\"\"\n",
        "    Draws sample from a simulator.\n",
        "\n",
        "    :param continue_after_exceptions:\n",
        "    :param single_theta:\n",
        "    :param grid_sampling:\n",
        "    :param sample_label:\n",
        "    :param simulator_name: Specifies the simulator. Currently supported are 'galton' and 'epidemiology'.\n",
        "    :param theta0: None or ndarray that provides a list of theta0 values (the numerator of the likelihood ratio as well\n",
        "                   as the score reference point). If None, load simulator defaults.\n",
        "    :param theta1: None or ndarray that provides a list of theta1 values (the denominator of the likelihood ratio) with\n",
        "                   same shape as theta0. If None, load simulator defaults.\n",
        "    :param draw_from: list, either [0], [1], or None (= [0,1]). Determines whether theta0, theta1, or both are used for\n",
        "                      the sampling.\n",
        "    :param generate_joint_ratio: bool, whether to ask the simulator for the joint ratio (only if theta1 is given).\n",
        "    :param generate_joint_score: bool, whether to ask the simulator for the joint score.\n",
        "    :param checkpoint: bool, whether to use a checkpointed version of the simulator.\n",
        "    :param n_thetas: int, number of thetas samples of theta0 is None and single_theta is False\n",
        "    :param n_samples_per_theta: Number of samples per combination of theta0 and theta1.\n",
        "    :param random_state: Numpy random state.\n",
        "    \"\"\"\n",
        "\n",
        "    simulator = GeneralizedGaltonBoard(n_rows, n_nails) \n",
        "\n",
        "\n",
        "    # Default thetas\n",
        "    if theta0 is None:\n",
        "        theta0 = simulator.theta_defaults(single_theta=single_theta,\n",
        "                                                  n_thetas=n_thetas,\n",
        "                                                  random=not grid_sampling)\n",
        "\n",
        "    # Check thetas\n",
        "    has_theta1 = (theta1 is not None)\n",
        "\n",
        "    if has_theta1:\n",
        "        if theta1.shape != theta0.shape:\n",
        "            raise ValueError('theta0 and theta1 have different shapes: %s, %s', theta0.shape, theta1.shape)\n",
        "        if draw_from is None:\n",
        "            draw_from = [0, 1]\n",
        "        if draw_from not in [[0], [1], [0, 1]]:\n",
        "            raise ValueError('draw_from has value other than [0], [1], [0,1]: %s', draw_from)\n",
        "\n",
        "    else:\n",
        "        theta1 = np.empty_like(theta0)\n",
        "        theta1[:] = np.NaN\n",
        "\n",
        "        if generate_joint_ratio:\n",
        "            logging.warning('Joint ratio requested, but theta1 not given -- will just generate joint score.')\n",
        "        generate_joint_ratio = False\n",
        "\n",
        "        if draw_from is None:\n",
        "            draw_from = [0]\n",
        "        if draw_from not in [[0]]:\n",
        "            raise ValueError('No theta1, and draw_from has value other than [0]: %s', draw_from)\n",
        "\n",
        "    n_samples_per_theta_and_draw = n_samples_per_theta // len(draw_from)\n",
        "\n",
        "    # Data to be generated\n",
        "    all_theta0 = []\n",
        "    all_theta1 = []\n",
        "    all_x = []\n",
        "    all_y = []\n",
        "    all_pos = []\n",
        "    all_log = []\n",
        "    all_r_xz = []\n",
        "    all_t_xz = []\n",
        "    all_z_checkpoints = []\n",
        "    all_r_xz_checkpoints = []\n",
        "    all_t_xz_checkpoints = []\n",
        "\n",
        "    logging.info('Parameter points:')\n",
        "    logging.info('  theta0 = %s', theta0)\n",
        "    if has_theta1:\n",
        "        logging.info('  theta1 = %s', theta1)\n",
        "\n",
        "    # Loop over thetas and run simulator\n",
        "    n_simulations = len(list(zip(theta0, theta1)))\n",
        "    n_verbose = max(n_simulations // 100, 1)\n",
        "\n",
        "    for i_simulation, (theta0_, theta1_) in enumerate(zip(theta0, theta1)):\n",
        "\n",
        "\n",
        "        if (i_simulation + 1) % n_verbose == 0:\n",
        "            logging.info('Starting simulation for parameter setup %s / %s: theta0 = %s, theta1 = %s', i_simulation + 1,\n",
        "                         n_simulations, theta0_, theta1_)\n",
        "        \n",
        "        for y in draw_from:\n",
        "\n",
        "            t_xz = None\n",
        "            r_xz = None\n",
        "            z_checkpoints = None\n",
        "            r_xz_checkpoints = None\n",
        "            t_xz_checkpoints = None\n",
        "\n",
        "            try:\n",
        "                if checkpoint and generate_joint_score:\n",
        "                    x, t_xz, z_checkpoints, t_xz_checkpoints = simulator.rvs_score(\n",
        "                        theta=theta0_,\n",
        "                        theta_score=theta0_,\n",
        "                        n=n_samples_per_theta_and_draw,\n",
        "                        random_state=random_state,\n",
        "                        score = score\n",
        "                    )\n",
        "                elif generate_joint_score:\n",
        "                    x, t_xz, pos, log = simulator.rvs_score(\n",
        "                        theta=theta0_,\n",
        "                        theta_score=theta0_,\n",
        "                        n=n_samples_per_theta_and_draw,\n",
        "                        random_state=random_state,\n",
        "                        score = score\n",
        "                    )\n",
        "\n",
        "                all_theta0 += [theta0_] * n_samples_per_theta_and_draw\n",
        "                all_theta1 += [theta1_] * n_samples_per_theta_and_draw\n",
        "                all_x += list(x)\n",
        "                all_pos += list(pos)\n",
        "                all_log += list(log)\n",
        "                all_y += [y] * n_samples_per_theta_and_draw\n",
        "                if generate_joint_ratio:\n",
        "                    all_r_xz += list(r_xz)\n",
        "                if generate_joint_score:\n",
        "                    all_t_xz += list(t_xz)\n",
        "                if checkpoint and (generate_joint_ratio or generate_joint_score):\n",
        "                    all_z_checkpoints += list(z_checkpoints)\n",
        "                    if generate_joint_ratio:\n",
        "                        all_r_xz_checkpoints += list(r_xz_checkpoints)\n",
        "                    if generate_joint_score:\n",
        "                        all_t_xz_checkpoints += list(t_xz_checkpoints)\n",
        "\n",
        "            except SimulatorException as e:\n",
        "                logging.warning('Simulator raised exception: %s', e)\n",
        "\n",
        "                if continue_after_exceptions:\n",
        "                    logging.info('Ignoring this parameter point and continuing with others.')\n",
        "                else:\n",
        "                    raise\n",
        "\n",
        "    all_theta0 = np.array(all_theta0)\n",
        "    all_theta1 = np.array(all_theta1)\n",
        "    all_x = np.array(all_x)\n",
        "    all_y = np.array(all_y)\n",
        "    if generate_joint_ratio:\n",
        "        all_r_xz = np.array(all_r_xz)\n",
        "    if generate_joint_score:\n",
        "        all_t_xz = np.array(all_t_xz)\n",
        "    if checkpoint and (generate_joint_ratio or generate_joint_score):\n",
        "        all_z_checkpoints = np.array(all_z_checkpoints)\n",
        "        if generate_joint_ratio:\n",
        "            all_r_xz_checkpoints = np.array(all_r_xz_checkpoints)\n",
        "        if generate_joint_score:\n",
        "            all_t_xz_checkpoints = np.array(all_t_xz_checkpoints)\n",
        "\n",
        "\n",
        "    return all_theta0, all_x, all_t_xz, all_pos, all_log"
      ],
      "metadata": {
        "id": "aZhA6saoJOV1"
      },
      "execution_count": 3,
      "outputs": []
    },
    {
      "cell_type": "code",
      "source": [
        "theta_0 = -0.8\n",
        "theta_1 = -0.6\n",
        "\n",
        "n_nails=31\n",
        "n_rows=20"
      ],
      "metadata": {
        "id": "vMf-CqLiJm3_"
      },
      "execution_count": 4,
      "outputs": []
    },
    {
      "cell_type": "code",
      "source": [
        "galton_rvs  = lambda theta :GeneralizedGaltonBoard().rvs_score(theta, theta, n=20000, random_state=1234)\n",
        "\n",
        "samples_0, score_0, pos_0, log_0 = galton_rvs(theta_0)\n",
        "p_estimated_0, _ = np.histogram(samples_0, bins=n_nails, range=(0, n_nails), density=True)\n",
        "\n",
        "samples_1, score_1, pos_1, log_1 = galton_rvs(theta_1)\n",
        "p_estimated_1, _ = np.histogram(samples_1, bins=n_nails, range=(0, n_nails), density=True)"
      ],
      "metadata": {
        "colab": {
          "base_uri": "https://localhost:8080/"
        },
        "id": "_HLySVM_J7ss",
        "outputId": "400ff074-1f87-4f9a-c0b4-1f2cecf20505"
      },
      "execution_count": 5,
      "outputs": [
        {
          "output_type": "stream",
          "name": "stderr",
          "text": [
            "100%|██████████| 20000/20000 [03:29<00:00, 95.42it/s] \n",
            "100%|██████████| 20000/20000 [03:23<00:00, 98.24it/s] \n"
          ]
        }
      ]
    },
    {
      "cell_type": "code",
      "source": [
        "# numpyro version \n",
        "\n",
        "import numpyro\n",
        "import jax\n",
        "from numpyro.handlers import seed, trace, condition\n",
        "import numpyro.distributions as dist\n",
        "import jax.numpy as jnp\n",
        "from numpyro.contrib.control_flow import cond\n",
        "\n",
        "def sigmoid_(x):\n",
        "    return 1. / (1. + jnp.exp(-x))\n",
        "\n",
        "def nail_positions(theta, n_rows, n_nails, level, nail):\n",
        "\n",
        "    level_rel = 1. * level / (n_rows - 1) #zv\n",
        "    nail_rel = 2. * nail / (n_nails - 1) - 1. #zh\n",
        "\n",
        "    nail_positions = ((1. - jnp.sin(jnp.pi * level_rel)) * 0.5\n",
        "                      + jnp.sin(jnp.pi * level_rel) * sigmoid_(10 * theta * nail_rel))\n",
        "    \n",
        "    res = cond(level % 2 == 1 and nail == 0, \n",
        "                       lambda _: 0.0, \n",
        "                       lambda _: cond(level % 2 == 1 and nail == n_nails, \n",
        "                                                 lambda _: 1.0, \n",
        "                                                 lambda _: nail_positions, \n",
        "                                                 0), \n",
        "                       0)\n",
        "\n",
        "    return nail_positions\n",
        "\n",
        "def galton_board(y = None,  n_rows = 20, n_nails = 31):\n",
        "\n",
        "  theta = numpyro.sample('theta', dist.Uniform(-1, 0))\n",
        "  pos = n_nails // 2\n",
        "\n",
        "  for level in range(n_rows):\n",
        "    # z = numpyro.sample('z%d' %level, dist.Bernoulli(1 - nail_positions(theta, n_rows, n_nails, level, pos)))\n",
        "    # pos = z - (level % 2) + pos\n",
        "    # print('level : ', level, '__pos :', pos, 'right :', jnp.log(1 - nail_positions(theta, n_rows, n_nails, level, pos)), 'left :', jnp.log(nail_positions(theta, n_rows, n_nails, level, pos)))\n",
        "    \n",
        "    pos = numpyro.sample('z%d' %level,  \n",
        "                      dist.TransformedDistribution(dist.Bernoulli(1 - nail_positions(theta, n_rows, n_nails, level, pos)), \n",
        "                                              dist.transforms.AffineTransform( - (level % 2) + pos, 1)))\n",
        "    \n",
        "  y = numpyro.sample(\"y\", \n",
        "                      dist.TransformedDistribution(dist.Bernoulli(1 - nail_positions(theta, n_rows, n_nails, level, pos)), \n",
        "                                              dist.transforms.AffineTransform( - (level % 2) + pos, 1)), \n",
        "                      obs=y)\n",
        "\n",
        "  return y"
      ],
      "metadata": {
        "id": "Qg3kI7QCJ_zG"
      },
      "execution_count": 6,
      "outputs": []
    },
    {
      "cell_type": "code",
      "source": [
        "key = jax.random.PRNGKey(200)\n",
        "keys = jax.random.split(key, 20000)\n",
        "\n",
        "cond_model0 = condition(galton_board, {'theta': -0.8})\n",
        "x0 = jax.vmap(lambda k: trace(seed(cond_model0, k)).get_trace()['y']['value'])(keys)\n",
        "\n",
        "cond_model1 = condition(galton_board, {'theta': -0.6})\n",
        "x1 = jax.vmap(lambda k: trace(seed(cond_model1, k)).get_trace()['y']['value'])(keys)"
      ],
      "metadata": {
        "id": "ilxOauMpKN8z"
      },
      "execution_count": 7,
      "outputs": []
    },
    {
      "cell_type": "code",
      "source": [
        "p_estimated_0_numpyro, _ = np.histogram(x0, bins=31, range=(0, 31), density=True)\n",
        "p_estimated_1_numpyro, _ = np.histogram(x1, bins=31, range=(0, 31), density=True)"
      ],
      "metadata": {
        "id": "ec63wiKvKXm1"
      },
      "execution_count": 8,
      "outputs": []
    },
    {
      "cell_type": "code",
      "source": [
        "figure(figsize=(10,6))\n",
        "\n",
        "plt.step(range(len(p_estimated_0)), p_estimated_0,\n",
        "         c='r', lw=1.5,\n",
        "         label=r'$p(x|\\theta_0)$ with mining gold simulator')\n",
        "\n",
        "plt.step(range(len(p_estimated_0)), p_estimated_1,\n",
        "         c='b', lw=1.5, \n",
        "         label=r'$p(x|\\theta_1)$ with mining gold simulator')\n",
        "\n",
        "plt.step(range(len(p_estimated_0_numpyro)), p_estimated_0_numpyro,\n",
        "         c='C1', lw=1.5,\n",
        "         label=r'$p(x|\\theta_0)$ with numpyro')\n",
        "\n",
        "plt.step(range(len(p_estimated_1_numpyro)), p_estimated_1_numpyro,\n",
        "         c='skyblue', lw=1.5, \n",
        "         label=r'$p(x|\\theta_1)$ with numpyro ')\n",
        "\n",
        "plt.xlabel(\"x\")\n",
        "plt.ylabel(\"p(x)\")\n",
        "plt.legend()\n",
        "plt.title('check numpyro simulator')"
      ],
      "metadata": {
        "id": "EzWaIdPKKZHL",
        "colab": {
          "base_uri": "https://localhost:8080/",
          "height": 421
        },
        "outputId": "5dd5c983-4161-4897-8608-c20f6c23e7a4"
      },
      "execution_count": 137,
      "outputs": [
        {
          "output_type": "execute_result",
          "data": {
            "text/plain": [
              "Text(0.5, 1.0, 'check numpyro simulator')"
            ]
          },
          "metadata": {},
          "execution_count": 137
        },
        {
          "output_type": "display_data",
          "data": {
            "text/plain": [
              "<Figure size 720x432 with 1 Axes>"
            ],
            "image/png": "[encoded data removed]"
          },
          "metadata": {
            "needs_background": "light"
          }
        }
      ]
    },
    {
      "cell_type": "code",
      "source": [],
      "metadata": {
        "id": "HQqkOoICk9sv"
      },
      "execution_count": null,
      "outputs": []
    },
    {
      "cell_type": "code",
      "source": [
        "from numpyro.handlers import seed, trace, condition\n",
        "import jax\n",
        "\n",
        "def get_samples_and_scores(model, key, batch_size=64, score_type='density', thetas=None):\n",
        "  \n",
        "    def log_prob_fn(theta, key):\n",
        "\n",
        "        cond_model = condition(model, {'theta': theta})\n",
        "        cond_model = seed(cond_model, key)\n",
        "        model_trace = trace(cond_model).get_trace()\n",
        "\n",
        "        if score_type == 'density':\n",
        "            logp = model_trace['theta']['fn'].log_prob(model_trace['theta']['value'])\n",
        "        elif score_type == 'conditional':\n",
        "            logp = 0\n",
        "\n",
        "        for i in range(len(model_trace) - 1): \n",
        "          key, val = list(model_trace.items())[i]\n",
        "          logp += val['fn'].log_prob(val['value'])\n",
        "\n",
        "        sample = {'theta': model_trace['theta']['value'],\n",
        "                  'y': model_trace['y']['value']}\n",
        "    \n",
        "        return logp, sample\n",
        "\n",
        "    \n",
        "    # Split the key by batch\n",
        "    keys = jax.random.split(key, batch_size)\n",
        "\n",
        "    # Sample theta from the model\n",
        "    if thetas == None:\n",
        "        thetas = jax.vmap(lambda k: trace(seed(model, k)).get_trace()['theta']['value'])(keys)\n",
        "\n",
        "    return jax.vmap(jax.value_and_grad(log_prob_fn, has_aux=True))(thetas, keys)"
      ],
      "metadata": {
        "id": "pv7X5xXlveIu"
      },
      "execution_count": 129,
      "outputs": []
    },
    {
      "cell_type": "code",
      "source": [
        "@jax.jit\n",
        "def get_batch(key, batch_size=int(5e3)):\n",
        "    model = galton_board\n",
        "    (log_probs, samples), scores = get_samples_and_scores(model, key, batch_size=batch_size)\n",
        "    return samples['theta'], samples['y'], scores\n",
        "\n",
        "mu, batch, grad = get_batch(jax.random.PRNGKey(62))"
      ],
      "metadata": {
        "id": "MhENCHbzZYOp"
      },
      "execution_count": 130,
      "outputs": []
    },
    {
      "cell_type": "code",
      "source": [
        "t_, x_, score0___, pos0, log0 = simulate(simulator_name = 'galton',\n",
        "            sample_label = 'train', \n",
        "            theta0=None,\n",
        "            single_theta=True, \n",
        "            generate_joint_ratio=False,\n",
        "            generate_joint_score=True,\n",
        "            n_thetas=5e3,\n",
        "            n_samples_per_theta=1, \n",
        "            score = 'density')"
      ],
      "metadata": {
        "id": "K6njMyWVeFEM"
      },
      "execution_count": null,
      "outputs": []
    },
    {
      "cell_type": "code",
      "source": [
        "plt.hist(grad, alpha = 0.5, density = True, label = 'gradients form numpyro simulator');\n",
        "plt.hist(score0___.squeeze(), alpha = 0.5, density = True, label = 'gradients from mining gold simulator');\n",
        "plt.legend()\n",
        "plt.title('check gradients of numpyro simulator')"
      ],
      "metadata": {
        "colab": {
          "base_uri": "https://localhost:8080/",
          "height": 407
        },
        "id": "5uLgSOT7hOug",
        "outputId": "5b8875df-36c5-4000-dace-46842b0fcbc9"
      },
      "execution_count": 138,
      "outputs": [
        {
          "output_type": "execute_result",
          "data": {
            "text/plain": [
              "Text(0.5, 1.0, 'check gradients of numpyro simulator')"
            ]
          },
          "metadata": {},
          "execution_count": 138
        },
        {
          "output_type": "display_data",
          "data": {
            "text/plain": [
              "<Figure size 576x432 with 1 Axes>"
            ],
            "image/png": "[encoded data removed]"
          },
          "metadata": {
            "needs_background": "light"
          }
        }
      ]
    }
  ]
}