{
  "cells": [
    {
      "cell_type": "markdown",
      "metadata": {
        "id": "view-in-github",
        "colab_type": "text"
      },
      "source": [
        "<a href=\"https://colab.research.google.com/github/Justinezgh/SBI-Diff-Simulator/blob/add-lv-script/SBI-Diff-Simulator/notebooks/Compressor_for_lotka_volterra.ipynb\" target=\"_parent\"><img src=\"https://colab.research.google.com/assets/colab-badge.svg\" alt=\"Open In Colab\"/></a>"
      ]
    },
    {
      "cell_type": "code",
      "execution_count": 1,
      "metadata": {
        "id": "EynkfHtc33gg",
        "colab": {
          "base_uri": "https://localhost:8080/"
        },
        "outputId": "25fce232-cf5f-4f22-bbc8-e8c34fb6be08"
      },
      "outputs": [
        {
          "output_type": "stream",
          "name": "stdout",
          "text": [
            "\u001b[K     |████████████████████████████████| 283 kB 14.5 MB/s \n",
            "\u001b[K     |████████████████████████████████| 283 kB 70.8 MB/s \n",
            "\u001b[K     |████████████████████████████████| 287 kB 74.4 MB/s \n",
            "\u001b[K     |████████████████████████████████| 140 kB 53.7 MB/s \n",
            "\u001b[K     |████████████████████████████████| 72 kB 631 kB/s \n",
            "\u001b[?25h  Building wheel for jax-cosmo (setup.py) ... \u001b[?25l\u001b[?25hdone\n",
            "\u001b[K     |████████████████████████████████| 112 kB 15.0 MB/s \n",
            "\u001b[?25h  Building wheel for sbids (setup.py) ... \u001b[?25l\u001b[?25hdone\n"
          ]
        }
      ],
      "source": [
        "!pip install --quiet jax-cosmo numpyro dm-haiku==0.0.5 optax\n",
        "!pip install --quiet git+https://github.com/Justinezgh/SBI-Diff-Simulator.git"
      ]
    },
    {
      "cell_type": "code",
      "execution_count": 2,
      "metadata": {
        "id": "v1FqFxtl39z3",
        "colab": {
          "base_uri": "https://localhost:8080/"
        },
        "outputId": "e390c149-c85c-4116-c11e-24177331e756"
      },
      "outputs": [
        {
          "output_type": "stream",
          "name": "stdout",
          "text": [
            "Populating the interactive namespace from numpy and matplotlib\n"
          ]
        }
      ],
      "source": [
        "import logging\n",
        "# Removing annoying TFP error message\n",
        "logger = logging.getLogger()\n",
        "class CheckTypesFilter(logging.Filter):\n",
        "    def filter(self, record):\n",
        "        return \"check_types\" not in record.getMessage()\n",
        "logger.addFilter(CheckTypesFilter())\n",
        "\n",
        "%pylab inline\n",
        "\n",
        "import jax\n",
        "import jax_cosmo as jc\n",
        "import jax.numpy as jnp\n",
        "\n",
        "import haiku as hk\n",
        "import optax\n",
        "\n",
        "from tensorflow_probability.substrates import jax as tfp\n",
        "tfd = tfp.distributions\n",
        "tfb = tfp.bijectors\n",
        "tfpk = tfp.math.psd_kernels"
      ]
    },
    {
      "cell_type": "code",
      "source": [
        "from sbids.metrics.c2st import c2st\n",
        "from sbids.tasks import (\n",
        "  lotka_volterra, lotka_volterra_y_bijector, \n",
        "  lotka_volterra_theta_bijector, get_samples_and_scores\n",
        ")\n",
        "from sbids.models import AffineSigmoidCoupling, ConditionalRealNVP"
      ],
      "metadata": {
        "id": "GwR_KzIwhh__"
      },
      "execution_count": 2,
      "outputs": []
    },
    {
      "cell_type": "code",
      "source": [
        "@jax.jit\n",
        "def get_batch2(key, batch_size=1e5):\n",
        "    model = lotka_volterra\n",
        "    (log_probs, samples), scores = get_samples_and_scores(model, key, batch_size=batch_size)\n",
        "    return samples['theta'], samples['y'].reshape([-1,20], order='F'), scores"
      ],
      "metadata": {
        "id": "hj0u6mRgu3sw"
      },
      "execution_count": 3,
      "outputs": []
    },
    {
      "cell_type": "code",
      "execution_count": 4,
      "metadata": {
        "id": "QbXtG3iEWiiR"
      },
      "outputs": [],
      "source": [
        "class Compressor(hk.Module):\n",
        "\n",
        "  def __call__(self, x):\n",
        "    \n",
        "    x = x/1000\n",
        "    x = x[..., jnp.newaxis]\n",
        "\n",
        "    net_x = hk.Conv1D(32, 3, 1)(x) \n",
        "    net_x = jax.nn.leaky_relu(net_x) \n",
        "    net_x = hk.Conv1D(64, 4, 2)(net_x) \n",
        "    net_x = jax.nn.leaky_relu(net_x) \n",
        "    net_x = hk.Conv1D(128, 3, 1)(net_x)\n",
        "    net_x = jax.nn.leaky_relu(net_x) \n",
        "    net_x = hk.Flatten()(net_x) \n",
        "    \n",
        "    net_x = hk.Linear(32)(net_x) \n",
        "    net_x = jax.nn.leaky_relu(net_x) \n",
        "    net_x = hk.Linear(16)(net_x) \n",
        "    net_x = jax.nn.leaky_relu(net_x) \n",
        "    net_x = hk.Linear(4)(net_x) \n",
        "\n",
        "    return net_x.squeeze()"
      ]
    },
    {
      "cell_type": "code",
      "source": [
        "from functools import partial\n",
        "bijector_layers = [128] * 2\n",
        "\n",
        "bijector = partial(\n",
        "  AffineSigmoidCoupling, \n",
        "  layers=bijector_layers, \n",
        "  n_components=16, \n",
        "  activation=jax.nn.silu\n",
        ")\n",
        "\n",
        "NF = partial(\n",
        "  ConditionalRealNVP, \n",
        "  n_layers=4, \n",
        "  bijector_fn=bijector)\n",
        "\n",
        "\n",
        "class Flow_nd_Compressor2(hk.Module):\n",
        "    def __call__(self, y):\n",
        "        nvp = NF(4)(y)\n",
        "        return tfd.TransformedDistribution(nvp,\n",
        "                                           tfb.Chain([tfb.Invert(lotka_volterra_theta_bijector),\n",
        "                                                      tfb.Scale(30.),\n",
        "                                                      tfb.Shift(-0.5)]))"
      ],
      "metadata": {
        "id": "szq6o-IQ09gy"
      },
      "execution_count": 5,
      "outputs": []
    },
    {
      "cell_type": "code",
      "execution_count": 6,
      "metadata": {
        "id": "DJPOPNrkl4M3"
      },
      "outputs": [],
      "source": [
        "# compressor\n",
        "compressor = hk.without_apply_rng(hk.transform(lambda x : Compressor()(x)))\n",
        "rng_seq = hk.PRNGSequence(12)\n",
        "params_c = compressor.init(next(rng_seq), 0.5*jnp.ones([1,20]))\n",
        "\n",
        "\n",
        "# nf\n",
        "nf = hk.without_apply_rng(hk.transform(lambda p,x : Flow_nd_Compressor2()(x).log_prob(p).squeeze()))\n",
        "rng_seq = hk.PRNGSequence(2)\n",
        "params_nf = nf.init(next(rng_seq),  0.5*jnp.ones([1,4]), 0.5*jnp.ones([1,4]))\n",
        "\n",
        "parameters_compressor = hk.data_structures.merge(params_c, params_nf)"
      ]
    },
    {
      "cell_type": "code",
      "source": [
        "learning_rate=0.001\n",
        "optimizer_c = optax.adam(learning_rate)\n",
        "opt_state_c = optimizer_c.init(parameters_compressor)"
      ],
      "metadata": {
        "id": "qXjMk9cl3bE8"
      },
      "execution_count": 7,
      "outputs": []
    },
    {
      "cell_type": "code",
      "source": [
        "def loss_compressor(params, mu, batch):\n",
        "  y = compressor.apply(params, batch)\n",
        "  log_prob = jax.vmap(lambda theta, x: nf.apply(params, theta.reshape([1,4]), x.reshape([1,4])).squeeze())(mu, y)\n",
        "  return -jnp.mean(log_prob) \n",
        "\n",
        "\n",
        "@jax.jit\n",
        "def update_compressor(params, opt_state, mu, batch):\n",
        "    \"\"\"Single SGD update step.\"\"\"\n",
        "    loss, grads = jax.value_and_grad(loss_compressor)(params, mu, batch)\n",
        "    updates, new_opt_state = optimizer_c.update(grads, opt_state)\n",
        "    new_params = optax.apply_updates(params, updates)\n",
        "  \n",
        "    return loss, new_params, new_opt_state"
      ],
      "metadata": {
        "id": "IVR9ZSlx1aR-"
      },
      "execution_count": 8,
      "outputs": []
    },
    {
      "cell_type": "code",
      "execution_count": 9,
      "metadata": {
        "id": "gfD2zbDvmITJ"
      },
      "outputs": [],
      "source": [
        "from tqdm import tqdm\n",
        "losses_c = []\n",
        "master_seed = hk.PRNGSequence(0)"
      ]
    },
    {
      "cell_type": "code",
      "execution_count": 10,
      "metadata": {
        "colab": {
          "base_uri": "https://localhost:8080/"
        },
        "id": "4Lj_Ztx2mKG6",
        "outputId": "1509e27f-ed6b-4127-9a08-2a4921944e7b"
      },
      "outputs": [
        {
          "output_type": "stream",
          "name": "stderr",
          "text": [
            "100%|██████████| 2000/2000 [01:03<00:00, 31.27it/s]\n"
          ]
        }
      ],
      "source": [
        "it = 2000\n",
        "\n",
        "p, x, _ = get_batch2(jax.random.PRNGKey(12))\n",
        "\n",
        "if jnp.isnan(x).any() == True:\n",
        "  idx = jnp.where(jnp.isnan(x))[0]\n",
        "  x = jnp.delete(x, idx, axis=0)\n",
        "  p = jnp.delete(p, idx, axis=0)\n",
        "\n",
        "for step in tqdm(range(it)):\n",
        "  inds = np.random.randint(0, 100000, 256) \n",
        "  l, parameters_compressor, opt_state_c = update_compressor(parameters_compressor, opt_state_c, p[inds], x[inds])\n",
        "  losses_c.append(l)"
      ]
    },
    {
      "cell_type": "code",
      "source": [
        "learning_rate=0.0001\n",
        "optimizer_c = optax.adam(learning_rate)\n",
        "opt_state_c = optimizer_c.init(parameters_compressor)"
      ],
      "metadata": {
        "id": "k4LJJM-TIc6Y"
      },
      "execution_count": 11,
      "outputs": []
    },
    {
      "cell_type": "code",
      "source": [
        "it = 38000\n",
        "for step in tqdm(range(it)):\n",
        "  inds = np.random.randint(0, 100000, 256) \n",
        "  l, parameters_compressor, opt_state_c = update_compressor(parameters_compressor, opt_state_c,  p[inds], x[inds])\n",
        "  losses_c.append(l)"
      ],
      "metadata": {
        "colab": {
          "base_uri": "https://localhost:8080/"
        },
        "id": "GG40uQoXpQkw",
        "outputId": "19efc51d-433c-40c6-fa5a-64c91ace74d0"
      },
      "execution_count": 12,
      "outputs": [
        {
          "output_type": "stream",
          "name": "stderr",
          "text": [
            "100%|██████████| 38000/38000 [11:10<00:00, 56.71it/s]\n"
          ]
        }
      ]
    },
    {
      "cell_type": "code",
      "source": [
        "import pickle\n",
        "with open(\"/content/params_compressor.pkl\", \"wb\") as fp:\n",
        "  pickle.dump(parameters_compressor, fp)"
      ],
      "metadata": {
        "id": "rR0IaZ96nfnU"
      },
      "execution_count": 25,
      "outputs": []
    },
    {
      "cell_type": "code",
      "source": [
        "#silu\n",
        "import arviz as az\n",
        "az.style.use(\"arviz-darkgrid\")\n",
        "\n",
        "plot(losses_c)\n",
        "plot(jnp.ones(len(losses_c))*(-14))"
      ],
      "metadata": {
        "colab": {
          "base_uri": "https://localhost:8080/",
          "height": 525
        },
        "id": "ELVUhqkAV62E",
        "outputId": "821773f5-5163-4d6f-c72d-d5d453d1335b"
      },
      "execution_count": 14,
      "outputs": [
        {
          "output_type": "execute_result",
          "data": {
            "text/plain": [
              "[<matplotlib.lines.Line2D at 0x7f8755044c10>]"
            ]
          },
          "metadata": {},
          "execution_count": 14
        },
        {
          "output_type": "display_data",
          "data": {
            "text/plain": [
              "<Figure size 720x480 with 1 Axes>"
            ],
            "image/png": "[encoded data removed]"
          },
          "metadata": {}
        }
      ]
    },
    {
      "cell_type": "code",
      "execution_count": 15,
      "metadata": {
        "id": "Ao1me5cA8e0I",
        "colab": {
          "base_uri": "https://localhost:8080/"
        },
        "outputId": "688e9e07-c122-47d6-901f-6cb8720ce8d0"
      },
      "outputs": [
        {
          "output_type": "execute_result",
          "data": {
            "text/plain": [
              "DeviceArray(-13.415457, dtype=float32)"
            ]
          },
          "metadata": {},
          "execution_count": 15
        }
      ],
      "source": [
        "losses_c[-5]"
      ]
    },
    {
      "cell_type": "code",
      "source": [
        "p, x, score = get_batch2(jax.random.PRNGKey(2))\n",
        "\n",
        "if jnp.isnan(x).any() == True:\n",
        "  idx = jnp.where(jnp.isnan(x))[0]\n",
        "  x = jnp.delete(x, idx, axis=0)\n",
        "  p = jnp.delete(p, idx, axis=0)\n",
        "  score = jnp.delete(score, idx, axis=0)\n",
        "  \n",
        "if jnp.isnan(score).any() == True:\n",
        "  idx = jnp.where(jnp.isnan(score))[0]\n",
        "  x = jnp.delete(x, idx, axis=0)\n",
        "  p = jnp.delete(p, idx, axis=0)\n",
        "  score = jnp.delete(score, idx, axis=0)\n",
        "\n",
        "reg = compressor.apply(parameters_compressor,x)"
      ],
      "metadata": {
        "id": "4CVn1JHeMOh8"
      },
      "execution_count": 16,
      "outputs": []
    },
    {
      "cell_type": "code",
      "source": [
        "scale_reg = (jnp.std(reg, axis =0)/0.04)\n",
        "shift_reg = jnp.mean(reg/scale_reg, axis = 0)-0.5\n",
        "\n",
        "normalized_reg = (reg/scale_reg) - shift_reg\n",
        "data = [normalized_reg[...,0],normalized_reg[...,1],normalized_reg[...,2],normalized_reg[...,3]]\n",
        "plt.boxplot(data);"
      ],
      "metadata": {
        "id": "S7QXbTQPmN9L",
        "colab": {
          "base_uri": "https://localhost:8080/",
          "height": 508
        },
        "outputId": "0b025051-f37e-490e-ad25-162ed1c87967"
      },
      "execution_count": 17,
      "outputs": [
        {
          "output_type": "display_data",
          "data": {
            "text/plain": [
              "<Figure size 720x480 with 1 Axes>"
            ],
            "image/png": "[encoded data removed]"
          },
          "metadata": {}
        }
      ]
    },
    {
      "cell_type": "code",
      "source": [
        "transfo = tfb.Chain([tfb.Invert(lotka_volterra_theta_bijector),tfb.Scale(30.),tfb.Shift(-0.5)])\n",
        "newp = transfo.inverse(p)\n",
        "data = [newp[...,0],newp[...,1],newp[...,2],newp[...,3]]\n",
        "plt.boxplot(data);"
      ],
      "metadata": {
        "colab": {
          "base_uri": "https://localhost:8080/",
          "height": 508
        },
        "id": "JlOE2LTL_geO",
        "outputId": "9b9a4803-96d7-4bf7-efb4-d93577aef790"
      },
      "execution_count": 18,
      "outputs": [
        {
          "output_type": "display_data",
          "data": {
            "text/plain": [
              "<Figure size 720x480 with 1 Axes>"
            ],
            "image/png": "[encoded data removed]"
          },
          "metadata": {}
        }
      ]
    },
    {
      "cell_type": "code",
      "source": [
        ""
      ],
      "metadata": {
        "id": "J5wJv9j4yVYE"
      },
      "execution_count": null,
      "outputs": []
    }
  ],
  "metadata": {
    "accelerator": "GPU",
    "colab": {
      "collapsed_sections": [],
      "name": "Compressor_for_lotka_volterra.ipynb",
      "provenance": [],
      "machine_shape": "hm",
      "include_colab_link": true
    },
    "kernelspec": {
      "display_name": "Python 3",
      "name": "python3"
    },
    "language_info": {
      "name": "python"
    }
  },
  "nbformat": 4,
  "nbformat_minor": 0
}